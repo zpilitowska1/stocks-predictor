{
 "cells": [
  {
   "cell_type": "code",
   "execution_count": 19,
   "id": "b24a0b53",
   "metadata": {},
   "outputs": [],
   "source": [
    "import xgboost \n",
    "from xgboost import XGBClassifier\n",
    "import pandas as pd\n",
    "import numpy as np\n",
    "from sklearn.model_selection import train_test_split\n",
    "from sklearn.preprocessing import MinMaxScaler\n",
    "from sklearn.metrics import accuracy_score, precision_score, recall_score, f1_score, confusion_matrix, classification_report"
   ]
  },
  {
   "cell_type": "code",
   "execution_count": 20,
   "id": "71783d58",
   "metadata": {},
   "outputs": [],
   "source": [
    "data = pd.read_csv('filtered_tickers.csv')\n",
    "features = [\n",
    " 'Date',\n",
    " 'Ticker',\n",
    " 'close_lag', \n",
    " 'close_mean_10_days',\n",
    " 'close_std_10_days',\n",
    " 'close_max_10_days',\n",
    " 'close_mean_30_days',\n",
    " 'close_std_30_days',\n",
    " 'close_max_30_days',\n",
    " 'EMA_close_10_days', \n",
    " 'EMA_close_30_days',\n",
    " 'bb_upper_20',\n",
    " 'bb_lower_20',\n",
    " 'bb_middle_20',\n",
    " 'bb_upper_50',\n",
    " 'bb_lower_50',\n",
    " 'bb_middle_50',\n",
    " 'timestamp',\n",
    " 'Target',\n",
    " 'EPS_Estimate',\n",
    " 'EPS_Actual', \n",
    " 'EPS_Surprise', \n",
    " 'Surprise(%)'\n",
    " ]\n",
    "data = data[features]"
   ]
  },
  {
   "cell_type": "code",
   "execution_count": 21,
   "id": "35f27fa0",
   "metadata": {},
   "outputs": [
    {
     "data": {
      "text/plain": [
       "array(['AAPL', 'AMD', 'QCOM'], dtype=object)"
      ]
     },
     "execution_count": 21,
     "metadata": {},
     "output_type": "execute_result"
    }
   ],
   "source": [
    "data['Ticker'].unique()"
   ]
  },
  {
   "cell_type": "code",
   "execution_count": 22,
   "id": "ed796e01",
   "metadata": {},
   "outputs": [],
   "source": [
    "data.fillna(value=0, inplace=True)"
   ]
  },
  {
   "cell_type": "code",
   "execution_count": 23,
   "id": "50d93fc2",
   "metadata": {},
   "outputs": [],
   "source": [
    "data['Date'] = pd.to_datetime(data['Date'])\n",
    "data.set_index('Date', inplace=True)"
   ]
  },
  {
   "cell_type": "code",
   "execution_count": 24,
   "id": "c3682b37",
   "metadata": {},
   "outputs": [
    {
     "name": "stderr",
     "output_type": "stream",
     "text": [
      "C:\\Users\\filip\\AppData\\Local\\Temp\\ipykernel_26376\\10009598.py:4: SettingWithCopyWarning: \n",
      "A value is trying to be set on a copy of a slice from a DataFrame.\n",
      "Try using .loc[row_indexer,col_indexer] = value instead\n",
      "\n",
      "See the caveats in the documentation: https://pandas.pydata.org/pandas-docs/stable/user_guide/indexing.html#returning-a-view-versus-a-copy\n",
      "  aapl_data['direction'] = (aapl_data['Target'].shift(-1) > aapl_data['Target']).astype(int)\n",
      "C:\\Users\\filip\\AppData\\Local\\Temp\\ipykernel_26376\\10009598.py:5: SettingWithCopyWarning: \n",
      "A value is trying to be set on a copy of a slice from a DataFrame.\n",
      "Try using .loc[row_indexer,col_indexer] = value instead\n",
      "\n",
      "See the caveats in the documentation: https://pandas.pydata.org/pandas-docs/stable/user_guide/indexing.html#returning-a-view-versus-a-copy\n",
      "  amd_data['direction'] = (amd_data['Target'].shift(-1) > amd_data['Target']).astype(int)\n",
      "C:\\Users\\filip\\AppData\\Local\\Temp\\ipykernel_26376\\10009598.py:6: SettingWithCopyWarning: \n",
      "A value is trying to be set on a copy of a slice from a DataFrame.\n",
      "Try using .loc[row_indexer,col_indexer] = value instead\n",
      "\n",
      "See the caveats in the documentation: https://pandas.pydata.org/pandas-docs/stable/user_guide/indexing.html#returning-a-view-versus-a-copy\n",
      "  qualcomm_data['direction'] = (qualcomm_data['Target'].shift(-1) > qualcomm_data['Target']).astype(int)\n"
     ]
    }
   ],
   "source": [
    "aapl_data = data[data['Ticker'] == 'AAPL']\n",
    "amd_data = data[data['Ticker'] == 'AMD']\n",
    "qualcomm_data = data[data['Ticker'] == 'QCOM']\n",
    "aapl_data['direction'] = (aapl_data['Target'].shift(-1) > aapl_data['Target']).astype(int)\n",
    "amd_data['direction'] = (amd_data['Target'].shift(-1) > amd_data['Target']).astype(int)\n",
    "qualcomm_data['direction'] = (qualcomm_data['Target'].shift(-1) > qualcomm_data['Target']).astype(int)"
   ]
  },
  {
   "cell_type": "code",
   "execution_count": 30,
   "id": "33dd1cf3",
   "metadata": {},
   "outputs": [],
   "source": [
    "X_aapl = aapl_data.drop(columns=['Target', 'Ticker', 'timestamp', 'direction'])\n",
    "y_aapl = aapl_data['direction']\n",
    "X_train_aapl, X_test_aapl, y_train_aapl, y_test_aapl = train_test_split(X_aapl, y_aapl, test_size=0.2, shuffle=False)\n",
    "\n",
    "X_amd = amd_data.drop(columns= ['Target','Ticker', 'timestamp', 'direction'])\n",
    "y_amd = amd_data['direction']\n",
    "X_train_amd, X_test_amd, y_train_amd, y_test_amd = train_test_split(X_amd, y_amd, test_size=0.2, shuffle=False)\n",
    "\n",
    "X_qualcomm = qualcomm_data.drop(columns= ['Target','Ticker', 'timestamp', 'direction'])\n",
    "y_qualcomm = qualcomm_data['direction']\n",
    "X_train_qualcomm, X_test_qualcomm, y_train_qualcomm, y_test_qualcomm = train_test_split(X_qualcomm, y_qualcomm, test_size=0.2, shuffle=False)"
   ]
  },
  {
   "cell_type": "code",
   "execution_count": 31,
   "id": "eb6a48a6",
   "metadata": {},
   "outputs": [],
   "source": [
    "scaler_qualcomm = MinMaxScaler()\n",
    "X_train_qualcomm_scaled = scaler_qualcomm.fit_transform(X_train_qualcomm)\n",
    "X_test_qualcomm_scaled = scaler_qualcomm.transform(X_test_qualcomm)\n",
    "\n",
    "scaler_amd = MinMaxScaler()\n",
    "X_train_amd_scaled = scaler_amd.fit_transform(X_train_amd)\n",
    "X_test_amd_scaled = scaler_amd.transform(X_test_amd)\n",
    "\n",
    "scaler_aapl = MinMaxScaler()\n",
    "X_train_aapl_scaled = scaler_aapl.fit_transform(X_train_aapl)\n",
    "X_test_aapl_scaled = scaler_aapl.transform(X_test_aapl)"
   ]
  },
  {
   "cell_type": "markdown",
   "id": "aabfb7a9",
   "metadata": {},
   "source": [
    "Model training"
   ]
  },
  {
   "cell_type": "code",
   "execution_count": 34,
   "id": "ae2c4d0e",
   "metadata": {},
   "outputs": [
    {
     "name": "stdout",
     "output_type": "stream",
     "text": [
      "              precision    recall  f1-score   support\n",
      "\n",
      "           0       0.50      0.65      0.57       228\n",
      "           1       0.62      0.46      0.53       275\n",
      "\n",
      "    accuracy                           0.55       503\n",
      "   macro avg       0.56      0.56      0.55       503\n",
      "weighted avg       0.56      0.55      0.55       503\n",
      "\n",
      "[[149  79]\n",
      " [148 127]]\n"
     ]
    }
   ],
   "source": [
    "aapl_xgb_model = XGBClassifier(\n",
    "    n_estimators=1600, \n",
    "    max_depth=9, \n",
    "    learning_rate=0.05, \n",
    "    scale_pos_weight = 3, \n",
    "    random_state=42, \n",
    "    reg_alpha=0.7,\n",
    "    reg_lambda=0.8,\n",
    "    gamma=0.02)\n",
    "aapl_xgb_model.fit(X_train_aapl_scaled, y_train_aapl)\n",
    "y_pred_aapl = aapl_xgb_model.predict(X_test_aapl_scaled)\n",
    "print(classification_report(y_test_aapl, y_pred_aapl))\n",
    "print(confusion_matrix(y_test_aapl, y_pred_aapl))"
   ]
  },
  {
   "cell_type": "code",
   "execution_count": 36,
   "id": "94e6c0c7",
   "metadata": {},
   "outputs": [
    {
     "name": "stdout",
     "output_type": "stream",
     "text": [
      "AMD Stock Prediction:\n",
      "              precision    recall  f1-score   support\n",
      "\n",
      "           0       0.52      0.80      0.63       255\n",
      "           1       0.55      0.25      0.35       248\n",
      "\n",
      "    accuracy                           0.53       503\n",
      "   macro avg       0.54      0.53      0.49       503\n",
      "weighted avg       0.54      0.53      0.49       503\n",
      "\n",
      "[[204  51]\n",
      " [185  63]]\n"
     ]
    }
   ],
   "source": [
    "amd_xgb_model = XGBClassifier(\n",
    "    n_estimators=1200,\n",
    "    learning_rate=0.025,\n",
    "    max_depth=8,\n",
    "    min_child_weight=8,\n",
    "    gamma=0.6,\n",
    "    subsample=0.65,\n",
    "    colsample_bytree=0.65,\n",
    "    scale_pos_weight=0.83,\n",
    "    reg_alpha=1.4,\n",
    "    reg_lambda=8,\n",
    "    random_state=42\n",
    ")\n",
    "amd_xgb_model.fit(X_train_amd_scaled, y_train_amd, verbose=True)\n",
    "y_pred_googl = amd_xgb_model.predict(X_test_amd_scaled)\n",
    "print(\"AMD Stock Prediction:\")\n",
    "print(classification_report(y_test_amd, y_pred_googl))\n",
    "print(confusion_matrix(y_test_amd, y_pred_googl))"
   ]
  },
  {
   "cell_type": "code",
   "execution_count": 37,
   "id": "8a8de06e",
   "metadata": {},
   "outputs": [
    {
     "name": "stdout",
     "output_type": "stream",
     "text": [
      "Qualcomm Stock Prediction:\n",
      "              precision    recall  f1-score   support\n",
      "\n",
      "           0       0.48      0.49      0.48       233\n",
      "           1       0.55      0.54      0.55       270\n",
      "\n",
      "    accuracy                           0.52       503\n",
      "   macro avg       0.51      0.52      0.51       503\n",
      "weighted avg       0.52      0.52      0.52       503\n",
      "\n",
      "[[114 119]\n",
      " [124 146]]\n"
     ]
    }
   ],
   "source": [
    "qualcomm_xgb_model = XGBClassifier(\n",
    "    n_estimators=1600,\n",
    "    learning_rate=0.02,\n",
    "    max_depth=6,\n",
    "    min_child_weight=3,\n",
    "    gamma=0.15,\n",
    "    subsample=0.85,\n",
    "    colsample_bytree=0.85,\n",
    "    scale_pos_weight=1.2,\n",
    "    reg_alpha=0.7,\n",
    "    reg_lambda=6,\n",
    "    random_state=42\n",
    ")\n",
    "qualcomm_xgb_model.fit(X_train_qualcomm_scaled, y_train_qualcomm)\n",
    "y_pred_qualcomm = qualcomm_xgb_model.predict(X_test_qualcomm_scaled)\n",
    "print(\"Qualcomm Stock Prediction:\")\n",
    "print(classification_report(y_test_qualcomm, y_pred_qualcomm))\n",
    "print(confusion_matrix(y_test_qualcomm, y_pred_qualcomm))"
   ]
  },
  {
   "cell_type": "code",
   "execution_count": null,
   "id": "ed115150",
   "metadata": {},
   "outputs": [],
   "source": []
  }
 ],
 "metadata": {
  "kernelspec": {
   "display_name": "block_c",
   "language": "python",
   "name": "python3"
  },
  "language_info": {
   "codemirror_mode": {
    "name": "ipython",
    "version": 3
   },
   "file_extension": ".py",
   "mimetype": "text/x-python",
   "name": "python",
   "nbconvert_exporter": "python",
   "pygments_lexer": "ipython3",
   "version": "3.10.16"
  }
 },
 "nbformat": 4,
 "nbformat_minor": 5
}
