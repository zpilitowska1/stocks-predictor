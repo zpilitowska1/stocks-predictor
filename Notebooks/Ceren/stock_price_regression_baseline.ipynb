{
 "cells": [
  {
   "cell_type": "markdown",
   "id": "ee6433a6",
   "metadata": {},
   "source": [
    "### Import Required Libraries"
   ]
  },
  {
   "cell_type": "code",
   "execution_count": 78,
   "id": "2c1d3d70",
   "metadata": {},
   "outputs": [],
   "source": [
    "# import libraries\n",
    "import pandas as pd\n",
    "import numpy as np\n",
    "import matplotlib.pyplot as plt\n",
    "import seaborn as sns\n",
    "\n",
    "from sklearn.model_selection import train_test_split\n",
    "from sklearn.preprocessing import StandardScaler\n",
    "from sklearn.linear_model import LinearRegression\n",
    "from sklearn.metrics import mean_squared_error, mean_absolute_error, r2_score\n",
    "from xgboost import XGBRegressor"
   ]
  },
  {
   "cell_type": "markdown",
   "id": "453e24ee",
   "metadata": {},
   "source": [
    "### Load and Inspect the Data"
   ]
  },
  {
   "cell_type": "code",
   "execution_count": 79,
   "id": "b5f0f819",
   "metadata": {},
   "outputs": [
    {
     "name": "stdout",
     "output_type": "stream",
     "text": [
      "Dataset shape: (7545, 23)\n"
     ]
    },
    {
     "data": {
      "text/html": [
       "<div>\n",
       "<style scoped>\n",
       "    .dataframe tbody tr th:only-of-type {\n",
       "        vertical-align: middle;\n",
       "    }\n",
       "\n",
       "    .dataframe tbody tr th {\n",
       "        vertical-align: top;\n",
       "    }\n",
       "\n",
       "    .dataframe thead th {\n",
       "        text-align: right;\n",
       "    }\n",
       "</style>\n",
       "<table border=\"1\" class=\"dataframe\">\n",
       "  <thead>\n",
       "    <tr style=\"text-align: right;\">\n",
       "      <th></th>\n",
       "      <th>date</th>\n",
       "      <th>ticker</th>\n",
       "      <th>close_lag</th>\n",
       "      <th>close_mean_10_days</th>\n",
       "      <th>close_std_10_days</th>\n",
       "      <th>close_max_10_days</th>\n",
       "      <th>close_mean_30_days</th>\n",
       "      <th>close_std_30_days</th>\n",
       "      <th>close_max_30_days</th>\n",
       "      <th>ema_close_10_days</th>\n",
       "      <th>...</th>\n",
       "      <th>bb_middle_20</th>\n",
       "      <th>bb_upper_50</th>\n",
       "      <th>bb_lower_50</th>\n",
       "      <th>bb_middle_50</th>\n",
       "      <th>timestamp</th>\n",
       "      <th>target</th>\n",
       "      <th>eps_estimate</th>\n",
       "      <th>eps_actual</th>\n",
       "      <th>eps_surprise</th>\n",
       "      <th>surprise_percent</th>\n",
       "    </tr>\n",
       "  </thead>\n",
       "  <tbody>\n",
       "    <tr>\n",
       "      <th>0</th>\n",
       "      <td>2023-02-09</td>\n",
       "      <td>GOOG</td>\n",
       "      <td>100.00</td>\n",
       "      <td>102.095</td>\n",
       "      <td>4.279936</td>\n",
       "      <td>108.8</td>\n",
       "      <td>95.562667</td>\n",
       "      <td>6.426811</td>\n",
       "      <td>108.8</td>\n",
       "      <td>101.018837</td>\n",
       "      <td>...</td>\n",
       "      <td>98.9550</td>\n",
       "      <td>106.364743</td>\n",
       "      <td>83.516857</td>\n",
       "      <td>94.9408</td>\n",
       "      <td>2023-02-09</td>\n",
       "      <td>94.86</td>\n",
       "      <td>NaN</td>\n",
       "      <td>NaN</td>\n",
       "      <td>NaN</td>\n",
       "      <td>NaN</td>\n",
       "    </tr>\n",
       "    <tr>\n",
       "      <th>1</th>\n",
       "      <td>2023-02-10</td>\n",
       "      <td>GOOG</td>\n",
       "      <td>95.46</td>\n",
       "      <td>101.510</td>\n",
       "      <td>4.851866</td>\n",
       "      <td>108.8</td>\n",
       "      <td>95.842667</td>\n",
       "      <td>6.195372</td>\n",
       "      <td>108.8</td>\n",
       "      <td>99.899049</td>\n",
       "      <td>...</td>\n",
       "      <td>99.1025</td>\n",
       "      <td>106.352252</td>\n",
       "      <td>83.506148</td>\n",
       "      <td>94.9292</td>\n",
       "      <td>2023-02-10</td>\n",
       "      <td>95.00</td>\n",
       "      <td>NaN</td>\n",
       "      <td>NaN</td>\n",
       "      <td>NaN</td>\n",
       "      <td>NaN</td>\n",
       "    </tr>\n",
       "    <tr>\n",
       "      <th>2</th>\n",
       "      <td>2023-02-13</td>\n",
       "      <td>GOOG</td>\n",
       "      <td>94.86</td>\n",
       "      <td>101.215</td>\n",
       "      <td>5.171521</td>\n",
       "      <td>108.8</td>\n",
       "      <td>96.044333</td>\n",
       "      <td>6.060265</td>\n",
       "      <td>108.8</td>\n",
       "      <td>99.008313</td>\n",
       "      <td>...</td>\n",
       "      <td>99.2125</td>\n",
       "      <td>106.067299</td>\n",
       "      <td>83.533101</td>\n",
       "      <td>94.8002</td>\n",
       "      <td>2023-02-13</td>\n",
       "      <td>94.95</td>\n",
       "      <td>NaN</td>\n",
       "      <td>NaN</td>\n",
       "      <td>NaN</td>\n",
       "      <td>NaN</td>\n",
       "    </tr>\n",
       "    <tr>\n",
       "      <th>3</th>\n",
       "      <td>2023-02-14</td>\n",
       "      <td>GOOG</td>\n",
       "      <td>95.00</td>\n",
       "      <td>100.723</td>\n",
       "      <td>5.534962</td>\n",
       "      <td>108.8</td>\n",
       "      <td>96.251667</td>\n",
       "      <td>5.905830</td>\n",
       "      <td>108.8</td>\n",
       "      <td>98.270438</td>\n",
       "      <td>...</td>\n",
       "      <td>99.3520</td>\n",
       "      <td>105.784692</td>\n",
       "      <td>83.562508</td>\n",
       "      <td>94.6736</td>\n",
       "      <td>2023-02-14</td>\n",
       "      <td>97.10</td>\n",
       "      <td>NaN</td>\n",
       "      <td>NaN</td>\n",
       "      <td>NaN</td>\n",
       "      <td>NaN</td>\n",
       "    </tr>\n",
       "    <tr>\n",
       "      <th>4</th>\n",
       "      <td>2023-02-15</td>\n",
       "      <td>GOOG</td>\n",
       "      <td>94.95</td>\n",
       "      <td>100.290</td>\n",
       "      <td>5.641844</td>\n",
       "      <td>108.8</td>\n",
       "      <td>96.498333</td>\n",
       "      <td>5.775859</td>\n",
       "      <td>108.8</td>\n",
       "      <td>98.057631</td>\n",
       "      <td>...</td>\n",
       "      <td>99.6180</td>\n",
       "      <td>105.590827</td>\n",
       "      <td>83.607173</td>\n",
       "      <td>94.5990</td>\n",
       "      <td>2023-02-15</td>\n",
       "      <td>95.78</td>\n",
       "      <td>NaN</td>\n",
       "      <td>NaN</td>\n",
       "      <td>NaN</td>\n",
       "      <td>NaN</td>\n",
       "    </tr>\n",
       "  </tbody>\n",
       "</table>\n",
       "<p>5 rows × 23 columns</p>\n",
       "</div>"
      ],
      "text/plain": [
       "         date ticker  close_lag  close_mean_10_days  close_std_10_days  \\\n",
       "0  2023-02-09   GOOG     100.00             102.095           4.279936   \n",
       "1  2023-02-10   GOOG      95.46             101.510           4.851866   \n",
       "2  2023-02-13   GOOG      94.86             101.215           5.171521   \n",
       "3  2023-02-14   GOOG      95.00             100.723           5.534962   \n",
       "4  2023-02-15   GOOG      94.95             100.290           5.641844   \n",
       "\n",
       "   close_max_10_days  close_mean_30_days  close_std_30_days  \\\n",
       "0              108.8           95.562667           6.426811   \n",
       "1              108.8           95.842667           6.195372   \n",
       "2              108.8           96.044333           6.060265   \n",
       "3              108.8           96.251667           5.905830   \n",
       "4              108.8           96.498333           5.775859   \n",
       "\n",
       "   close_max_30_days  ema_close_10_days  ...  bb_middle_20  bb_upper_50  \\\n",
       "0              108.8         101.018837  ...       98.9550   106.364743   \n",
       "1              108.8          99.899049  ...       99.1025   106.352252   \n",
       "2              108.8          99.008313  ...       99.2125   106.067299   \n",
       "3              108.8          98.270438  ...       99.3520   105.784692   \n",
       "4              108.8          98.057631  ...       99.6180   105.590827   \n",
       "\n",
       "   bb_lower_50  bb_middle_50   timestamp  target  eps_estimate eps_actual  \\\n",
       "0    83.516857       94.9408  2023-02-09   94.86           NaN        NaN   \n",
       "1    83.506148       94.9292  2023-02-10   95.00           NaN        NaN   \n",
       "2    83.533101       94.8002  2023-02-13   94.95           NaN        NaN   \n",
       "3    83.562508       94.6736  2023-02-14   97.10           NaN        NaN   \n",
       "4    83.607173       94.5990  2023-02-15   95.78           NaN        NaN   \n",
       "\n",
       "   eps_surprise  surprise_percent  \n",
       "0           NaN               NaN  \n",
       "1           NaN               NaN  \n",
       "2           NaN               NaN  \n",
       "3           NaN               NaN  \n",
       "4           NaN               NaN  \n",
       "\n",
       "[5 rows x 23 columns]"
      ]
     },
     "execution_count": 79,
     "metadata": {},
     "output_type": "execute_result"
    }
   ],
   "source": [
    "# load dataset\n",
    "path = r\"C:\\Users\\cerre\\Desktop\\stock_metrics.csv\"\n",
    "df = pd.read_csv(path)\n",
    "\n",
    "# display shape and first few rows\n",
    "print(\"Dataset shape:\", df.shape)\n",
    "df.head()"
   ]
  },
  {
   "cell_type": "markdown",
   "id": "1bccbaec",
   "metadata": {},
   "source": [
    "### Inspect Dataset Structure and Missing Values"
   ]
  },
  {
   "cell_type": "code",
   "execution_count": 80,
   "id": "0c9104f4",
   "metadata": {},
   "outputs": [
    {
     "name": "stdout",
     "output_type": "stream",
     "text": [
      "Missing values per column:\n",
      " date                     0\n",
      "ticker                   0\n",
      "close_lag                0\n",
      "close_mean_10_days       0\n",
      "close_std_10_days        0\n",
      "close_max_10_days        0\n",
      "close_mean_30_days       0\n",
      "close_std_30_days        0\n",
      "close_max_30_days        0\n",
      "ema_close_10_days        0\n",
      "ema_close_30_days        0\n",
      "bb_upper_20              0\n",
      "bb_lower_20              0\n",
      "bb_middle_20             0\n",
      "bb_upper_50              0\n",
      "bb_lower_50              0\n",
      "bb_middle_50             0\n",
      "timestamp                0\n",
      "target                   0\n",
      "eps_estimate          7474\n",
      "eps_actual            7474\n",
      "eps_surprise          7474\n",
      "surprise_percent      7474\n",
      "dtype: int64\n",
      "\n",
      "Data Types:\n",
      "date                   object\n",
      "ticker                 object\n",
      "close_lag             float64\n",
      "close_mean_10_days    float64\n",
      "close_std_10_days     float64\n",
      "close_max_10_days     float64\n",
      "close_mean_30_days    float64\n",
      "close_std_30_days     float64\n",
      "close_max_30_days     float64\n",
      "ema_close_10_days     float64\n",
      "ema_close_30_days     float64\n",
      "bb_upper_20           float64\n",
      "bb_lower_20           float64\n",
      "bb_middle_20          float64\n",
      "bb_upper_50           float64\n",
      "bb_lower_50           float64\n",
      "bb_middle_50          float64\n",
      "timestamp              object\n",
      "target                float64\n",
      "eps_estimate          float64\n",
      "eps_actual            float64\n",
      "eps_surprise          float64\n",
      "surprise_percent      float64\n",
      "dtype: object\n",
      "\n",
      "Descriptive Statistics:\n",
      "         close_lag  close_mean_10_days  close_std_10_days  close_max_10_days  \\\n",
      "count  7545.000000         7545.000000        7545.000000        7545.000000   \n",
      "mean     94.438563           94.260415           2.148846          97.437627   \n",
      "std      53.336960           53.130346           2.116560          54.983213   \n",
      "min      22.585000           23.177500           0.085267          23.547500   \n",
      "25%      51.295000           51.399000           0.735242          52.630000   \n",
      "50%      74.724500           74.560000           1.541113          77.490000   \n",
      "75%     137.920000          137.518000           3.001379         142.920000   \n",
      "max     259.020000          253.713000          38.309617         259.020000   \n",
      "\n",
      "       close_mean_30_days  close_std_30_days  close_max_30_days  \\\n",
      "count         7545.000000        7545.000000        7545.000000   \n",
      "mean            93.748153           3.724000         100.287689   \n",
      "std             52.588522           3.264044          56.206795   \n",
      "min             23.929667           0.223366          24.912500   \n",
      "25%             51.541933           1.344873          53.870000   \n",
      "50%             74.031000           3.012216          79.900000   \n",
      "75%            136.641300           5.218548         146.200000   \n",
      "max            246.569000          35.650202         259.020000   \n",
      "\n",
      "       ema_close_10_days  ema_close_30_days  bb_upper_20  bb_lower_20  \\\n",
      "count        7545.000000        7545.000000  7545.000000  7545.000000   \n",
      "mean           94.259747          93.750752   100.064779    87.939960   \n",
      "std            53.091801          52.481408    56.286073    49.810507   \n",
      "min            23.352584          24.055017    24.480144   -18.250042   \n",
      "25%            51.427751          51.387416    53.800967    48.427987   \n",
      "50%            74.422489          74.126148    79.791500    68.613718   \n",
      "75%           137.593598         137.349600   146.943538   128.109407   \n",
      "max           253.378891         245.685751   265.273639   240.322008   \n",
      "\n",
      "       bb_middle_20  bb_upper_50  bb_lower_50  bb_middle_50       target  \\\n",
      "count   7545.000000  7545.000000  7545.000000   7545.000000  7545.000000   \n",
      "mean      94.002370   102.902313    83.572244     93.237278    94.559178   \n",
      "std       52.857453    57.236980    47.598262     52.024690    53.487736   \n",
      "min       23.507750    25.196498   -16.575147     23.938800    22.585000   \n",
      "25%       51.484000    55.564117    45.330334     51.692626    51.300000   \n",
      "50%       74.104475    84.122788    65.080985     73.801280    74.805000   \n",
      "75%      136.946000   149.993670   123.931536    136.819000   138.050000   \n",
      "max      249.985000   260.994736   221.196010    240.481600   404.180000   \n",
      "\n",
      "       eps_estimate    eps_actual  eps_surprise  surprise_percent  \n",
      "count  7.100000e+01  7.100000e+01  7.100000e+01      7.100000e+01  \n",
      "mean   1.600000e+00  1.640000e+00  4.000000e-02      2.350000e+00  \n",
      "std    2.236250e-16  2.236250e-16  1.397656e-17      4.472500e-16  \n",
      "min    1.600000e+00  1.640000e+00  4.000000e-02      2.350000e+00  \n",
      "25%    1.600000e+00  1.640000e+00  4.000000e-02      2.350000e+00  \n",
      "50%    1.600000e+00  1.640000e+00  4.000000e-02      2.350000e+00  \n",
      "75%    1.600000e+00  1.640000e+00  4.000000e-02      2.350000e+00  \n",
      "max    1.600000e+00  1.640000e+00  4.000000e-02      2.350000e+00  \n"
     ]
    },
    {
     "data": {
      "text/plain": [
       "<function print>"
      ]
     },
     "execution_count": 80,
     "metadata": {},
     "output_type": "execute_result"
    }
   ],
   "source": [
    "# check for missing values\n",
    "missing_values = df.isnull().sum()\n",
    "print(\"Missing values per column:\\n\", missing_values)\n",
    "\n",
    "# basic info and statistics\n",
    "print(\"\\nData Types:\")\n",
    "print(df.dtypes)\n",
    "\n",
    "print(\"\\nDescriptive Statistics:\")\n",
    "print(df.describe())\n",
    "print "
   ]
  },
  {
   "cell_type": "markdown",
   "id": "c1920d59",
   "metadata": {},
   "source": [
    "### Preprocessing: Handling Missing Values"
   ]
  },
  {
   "cell_type": "code",
   "execution_count": 81,
   "id": "b139d51c",
   "metadata": {},
   "outputs": [],
   "source": [
    "# fill missing values with 0\n",
    "df = df.fillna(0)"
   ]
  },
  {
   "cell_type": "markdown",
   "id": "df969183",
   "metadata": {},
   "source": [
    "### Feature and Target Selection"
   ]
  },
  {
   "cell_type": "code",
   "execution_count": 82,
   "id": "ad55ea22",
   "metadata": {},
   "outputs": [],
   "source": [
    "# drop irrelevant columns\n",
    "df = df.drop(columns=[\"date\", \"timestamp\", \"ticker\"])\n",
    "\n",
    "# define features and target\n",
    "X = df.drop(columns=[\"target\"])\n",
    "y = df[\"target\"]"
   ]
  },
  {
   "cell_type": "markdown",
   "id": "ccb15fb0",
   "metadata": {},
   "source": [
    "### Train-Test Split"
   ]
  },
  {
   "cell_type": "code",
   "execution_count": 83,
   "id": "2c06156d",
   "metadata": {},
   "outputs": [],
   "source": [
    "from sklearn.model_selection import train_test_split\n",
    "\n",
    "# split the dataset\n",
    "X_train, X_test, y_train, y_test = train_test_split(X, y, test_size=0.2, random_state=42)"
   ]
  },
  {
   "cell_type": "markdown",
   "id": "1a597ba7",
   "metadata": {},
   "source": [
    "### Feature Scaling"
   ]
  },
  {
   "cell_type": "code",
   "execution_count": 84,
   "id": "bf992f26",
   "metadata": {},
   "outputs": [],
   "source": [
    "from sklearn.preprocessing import StandardScaler\n",
    "\n",
    "# initialize scaler\n",
    "scaler = StandardScaler()\n",
    "\n",
    "# fit on training data and transform both\n",
    "X_train_scaled = scaler.fit_transform(X_train)\n",
    "X_test_scaled = scaler.transform(X_test)"
   ]
  },
  {
   "cell_type": "markdown",
   "id": "1d372d36",
   "metadata": {},
   "source": [
    "### Linear Regression Model Training & Evaluation"
   ]
  },
  {
   "cell_type": "markdown",
   "id": "86785f6f",
   "metadata": {},
   "source": [
    "This baseline linear regression model yielded a very high R² score.  \n",
    " However, this could indicate potential **data leakage**, meaning that future information might have leaked into the training process.\n",
    "\n",
    "I'll keep this block to compare it with improved models later, where leakage is carefully prevented."
   ]
  },
  {
   "cell_type": "code",
   "execution_count": 86,
   "id": "e0c310ff",
   "metadata": {},
   "outputs": [
    {
     "name": "stdout",
     "output_type": "stream",
     "text": [
      " Linear Regression Results\n",
      "Mean Squared Error: 6.5420\n",
      "Mean Absolute Error: 1.6578\n",
      "R2 Score: 0.9977\n"
     ]
    }
   ],
   "source": [
    "from sklearn.linear_model import LinearRegression\n",
    "from sklearn.metrics import mean_squared_error, mean_absolute_error, r2_score\n",
    "\n",
    "# train the model\n",
    "lr_model = LinearRegression()\n",
    "lr_model.fit(X_train_scaled, y_train)\n",
    "\n",
    "# make predictions\n",
    "y_pred_lr = lr_model.predict(X_test_scaled)\n",
    "\n",
    "# evaluate the model\n",
    "mse_lr = mean_squared_error(y_test, y_pred_lr)\n",
    "mae_lr = mean_absolute_error(y_test, y_pred_lr)\n",
    "r2_lr = r2_score(y_test, y_pred_lr)\n",
    "\n",
    "print(\" Linear Regression Results\")\n",
    "print(f\"Mean Squared Error: {mse_lr:.4f}\")\n",
    "print(f\"Mean Absolute Error: {mae_lr:.4f}\")\n",
    "print(f\"R2 Score: {r2_lr:.4f}\")"
   ]
  },
  {
   "cell_type": "markdown",
   "id": "17b175cd",
   "metadata": {},
   "source": [
    "### XGBoost Model Training & Evaluation"
   ]
  },
  {
   "cell_type": "markdown",
   "id": "ce01c759",
   "metadata": {},
   "source": [
    "This model uses XGBoost for stock price prediction.  \n",
    "Like the linear regression model above, it may also suffer from **data leakage**, resulting in overly optimistic R² scores.\n",
    "\n",
    "I'll later compare this with leakage-free versions to ensure fair evaluation.\n"
   ]
  },
  {
   "cell_type": "code",
   "execution_count": 87,
   "id": "16d238ec",
   "metadata": {},
   "outputs": [
    {
     "name": "stdout",
     "output_type": "stream",
     "text": [
      " XGBoost Regression Results\n",
      "Mean Squared Error: 10.9334\n",
      "Mean Absolute Error: 1.9020\n",
      "R2 Score: 0.9962\n"
     ]
    }
   ],
   "source": [
    "from xgboost import XGBRegressor\n",
    "\n",
    "# train the model\n",
    "xgb_model = XGBRegressor(objective=\"reg:squarederror\", n_estimators=100, random_state=42)\n",
    "xgb_model.fit(X_train_scaled, y_train)\n",
    "\n",
    "# make predictions\n",
    "y_pred_xgb = xgb_model.predict(X_test_scaled)\n",
    "\n",
    "# evaluate the model\n",
    "mse_xgb = mean_squared_error(y_test, y_pred_xgb)\n",
    "mae_xgb = mean_absolute_error(y_test, y_pred_xgb)\n",
    "r2_xgb = r2_score(y_test, y_pred_xgb)\n",
    "\n",
    "print(\" XGBoost Regression Results\")\n",
    "print(f\"Mean Squared Error: {mse_xgb:.4f}\")\n",
    "print(f\"Mean Absolute Error: {mae_xgb:.4f}\")\n",
    "print(f\"R2 Score: {r2_xgb:.4f}\")"
   ]
  },
  {
   "cell_type": "code",
   "execution_count": 88,
   "id": "fda3c0ba",
   "metadata": {},
   "outputs": [
    {
     "data": {
      "image/png": "[encoded data removed]",
      "text/plain": [
       "<Figure size 640x480 with 1 Axes>"
      ]
     },
     "metadata": {},
     "output_type": "display_data"
    }
   ],
   "source": [
    "import matplotlib.pyplot as plt\n",
    "import xgboost as xgb\n",
    "\n",
    "xgb.plot_importance(xgb_model, max_num_features=10)\n",
    "plt.title(\"Top 10 Important Features (XGBoost)\")\n",
    "plt.show()"
   ]
  },
  {
   "cell_type": "markdown",
   "id": "cd98a4e5",
   "metadata": {},
   "source": []
  },
  {
   "cell_type": "code",
   "execution_count": 89,
   "id": "93c38b38",
   "metadata": {},
   "outputs": [
    {
     "data": {
      "image/png": "[encoded data removed]",
      "text/plain": [
       "<Figure size 800x500 with 1 Axes>"
      ]
     },
     "metadata": {},
     "output_type": "display_data"
    }
   ],
   "source": [
    "plt.figure(figsize=(8, 5))\n",
    "plt.plot(y_test.values[:100], label=\"Actual\", color='blue')\n",
    "plt.plot(y_pred_lr[:100], label=\"Predicted (Linear)\", color='yellow', alpha=0.7)\n",
    "plt.title(\"Actual vs Predicted Prices\")\n",
    "plt.xlabel(\"Index\")\n",
    "plt.ylabel(\"Price\")\n",
    "plt.legend()\n",
    "plt.grid(True)\n",
    "plt.tight_layout()\n",
    "plt.show()"
   ]
  },
  {
   "cell_type": "markdown",
   "id": "f11bb767",
   "metadata": {},
   "source": [
    "Step 1: Drop Risky or Leaky Features"
   ]
  },
  {
   "cell_type": "code",
   "execution_count": 100,
   "id": "69703386",
   "metadata": {},
   "outputs": [],
   "source": [
    "X = df.drop(columns=drop_cols, errors='ignore')\n",
    "y = df['target']"
   ]
  },
  {
   "cell_type": "code",
   "execution_count": 101,
   "id": "f673164f",
   "metadata": {},
   "outputs": [
    {
     "name": "stdout",
     "output_type": "stream",
     "text": [
      "Missing columns: []\n"
     ]
    }
   ],
   "source": [
    "missing = [col for col in drop_cols if col not in df.columns]\n",
    "print(\"Missing columns:\", missing)"
   ]
  },
  {
   "cell_type": "code",
   "execution_count": 102,
   "id": "a0a667e0",
   "metadata": {},
   "outputs": [],
   "source": [
    "drop_cols = [\n",
    "    'target',\n",
    "    'eps_estimate', 'eps_actual', 'eps_surprise', 'surprise_percent'\n",
    "]"
   ]
  },
  {
   "cell_type": "code",
   "execution_count": 103,
   "id": "e7ca3f0c",
   "metadata": {},
   "outputs": [],
   "source": [
    "X = df.drop(columns=drop_cols)\n",
    "y = df['target']"
   ]
  },
  {
   "cell_type": "markdown",
   "id": "d50793fc",
   "metadata": {},
   "source": [
    "###  Time-based Train/Test Split\n",
    "\n",
    "To avoid data leakage from future data, we sort the dataset chronologically and split it into training and test sets based on time.\n"
   ]
  },
  {
   "cell_type": "code",
   "execution_count": 104,
   "id": "4427b314",
   "metadata": {},
   "outputs": [
    {
     "name": "stdout",
     "output_type": "stream",
     "text": [
      "['close_lag', 'close_mean_10_days', 'close_std_10_days', 'close_max_10_days', 'close_mean_30_days', 'close_std_30_days', 'close_max_30_days', 'ema_close_10_days', 'ema_close_30_days', 'bb_upper_20', 'bb_lower_20', 'bb_middle_20', 'bb_upper_50', 'bb_lower_50', 'bb_middle_50', 'target', 'eps_estimate', 'eps_actual', 'eps_surprise', 'surprise_percent']\n"
     ]
    }
   ],
   "source": [
    "print(df.columns.tolist())\n"
   ]
  },
  {
   "cell_type": "markdown",
   "id": "80adad23",
   "metadata": {},
   "source": [
    "###  Reload the dataset (with `date` column)\n",
    "\n",
    "To perform a time-aware split, we reload the original dataset to ensure the `date` column is available.\n"
   ]
  },
  {
   "cell_type": "code",
   "execution_count": 107,
   "id": "acd0bb77",
   "metadata": {},
   "outputs": [
    {
     "ename": "FileNotFoundError",
     "evalue": "[Errno 2] No such file or directory: 'stock_metrics.csv'",
     "output_type": "error",
     "traceback": [
      "\u001b[1;31m---------------------------------------------------------------------------\u001b[0m",
      "\u001b[1;31mFileNotFoundError\u001b[0m                         Traceback (most recent call last)",
      "Cell \u001b[1;32mIn[107], line 2\u001b[0m\n\u001b[0;32m      1\u001b[0m \u001b[38;5;66;03m# Reload the dataset to restore 'date' column\u001b[39;00m\n\u001b[1;32m----> 2\u001b[0m df \u001b[38;5;241m=\u001b[39m \u001b[43mpd\u001b[49m\u001b[38;5;241;43m.\u001b[39;49m\u001b[43mread_csv\u001b[49m\u001b[43m(\u001b[49m\u001b[38;5;124;43m\"\u001b[39;49m\u001b[38;5;124;43mstock_metrics.csv\u001b[39;49m\u001b[38;5;124;43m\"\u001b[39;49m\u001b[43m)\u001b[49m  \n",
      "File \u001b[1;32mc:\\Users\\cerre\\anaconda3\\envs\\block_d\\lib\\site-packages\\pandas\\io\\parsers\\readers.py:1026\u001b[0m, in \u001b[0;36mread_csv\u001b[1;34m(filepath_or_buffer, sep, delimiter, header, names, index_col, usecols, dtype, engine, converters, true_values, false_values, skipinitialspace, skiprows, skipfooter, nrows, na_values, keep_default_na, na_filter, verbose, skip_blank_lines, parse_dates, infer_datetime_format, keep_date_col, date_parser, date_format, dayfirst, cache_dates, iterator, chunksize, compression, thousands, decimal, lineterminator, quotechar, quoting, doublequote, escapechar, comment, encoding, encoding_errors, dialect, on_bad_lines, delim_whitespace, low_memory, memory_map, float_precision, storage_options, dtype_backend)\u001b[0m\n\u001b[0;32m   1013\u001b[0m kwds_defaults \u001b[38;5;241m=\u001b[39m _refine_defaults_read(\n\u001b[0;32m   1014\u001b[0m     dialect,\n\u001b[0;32m   1015\u001b[0m     delimiter,\n\u001b[1;32m   (...)\u001b[0m\n\u001b[0;32m   1022\u001b[0m     dtype_backend\u001b[38;5;241m=\u001b[39mdtype_backend,\n\u001b[0;32m   1023\u001b[0m )\n\u001b[0;32m   1024\u001b[0m kwds\u001b[38;5;241m.\u001b[39mupdate(kwds_defaults)\n\u001b[1;32m-> 1026\u001b[0m \u001b[38;5;28;01mreturn\u001b[39;00m \u001b[43m_read\u001b[49m\u001b[43m(\u001b[49m\u001b[43mfilepath_or_buffer\u001b[49m\u001b[43m,\u001b[49m\u001b[43m \u001b[49m\u001b[43mkwds\u001b[49m\u001b[43m)\u001b[49m\n",
      "File \u001b[1;32mc:\\Users\\cerre\\anaconda3\\envs\\block_d\\lib\\site-packages\\pandas\\io\\parsers\\readers.py:620\u001b[0m, in \u001b[0;36m_read\u001b[1;34m(filepath_or_buffer, kwds)\u001b[0m\n\u001b[0;32m    617\u001b[0m _validate_names(kwds\u001b[38;5;241m.\u001b[39mget(\u001b[38;5;124m\"\u001b[39m\u001b[38;5;124mnames\u001b[39m\u001b[38;5;124m\"\u001b[39m, \u001b[38;5;28;01mNone\u001b[39;00m))\n\u001b[0;32m    619\u001b[0m \u001b[38;5;66;03m# Create the parser.\u001b[39;00m\n\u001b[1;32m--> 620\u001b[0m parser \u001b[38;5;241m=\u001b[39m TextFileReader(filepath_or_buffer, \u001b[38;5;241m*\u001b[39m\u001b[38;5;241m*\u001b[39mkwds)\n\u001b[0;32m    622\u001b[0m \u001b[38;5;28;01mif\u001b[39;00m chunksize \u001b[38;5;129;01mor\u001b[39;00m iterator:\n\u001b[0;32m    623\u001b[0m     \u001b[38;5;28;01mreturn\u001b[39;00m parser\n",
      "File \u001b[1;32mc:\\Users\\cerre\\anaconda3\\envs\\block_d\\lib\\site-packages\\pandas\\io\\parsers\\readers.py:1620\u001b[0m, in \u001b[0;36mTextFileReader.__init__\u001b[1;34m(self, f, engine, **kwds)\u001b[0m\n\u001b[0;32m   1617\u001b[0m     \u001b[38;5;28mself\u001b[39m\u001b[38;5;241m.\u001b[39moptions[\u001b[38;5;124m\"\u001b[39m\u001b[38;5;124mhas_index_names\u001b[39m\u001b[38;5;124m\"\u001b[39m] \u001b[38;5;241m=\u001b[39m kwds[\u001b[38;5;124m\"\u001b[39m\u001b[38;5;124mhas_index_names\u001b[39m\u001b[38;5;124m\"\u001b[39m]\n\u001b[0;32m   1619\u001b[0m \u001b[38;5;28mself\u001b[39m\u001b[38;5;241m.\u001b[39mhandles: IOHandles \u001b[38;5;241m|\u001b[39m \u001b[38;5;28;01mNone\u001b[39;00m \u001b[38;5;241m=\u001b[39m \u001b[38;5;28;01mNone\u001b[39;00m\n\u001b[1;32m-> 1620\u001b[0m \u001b[38;5;28mself\u001b[39m\u001b[38;5;241m.\u001b[39m_engine \u001b[38;5;241m=\u001b[39m \u001b[38;5;28;43mself\u001b[39;49m\u001b[38;5;241;43m.\u001b[39;49m\u001b[43m_make_engine\u001b[49m\u001b[43m(\u001b[49m\u001b[43mf\u001b[49m\u001b[43m,\u001b[49m\u001b[43m \u001b[49m\u001b[38;5;28;43mself\u001b[39;49m\u001b[38;5;241;43m.\u001b[39;49m\u001b[43mengine\u001b[49m\u001b[43m)\u001b[49m\n",
      "File \u001b[1;32mc:\\Users\\cerre\\anaconda3\\envs\\block_d\\lib\\site-packages\\pandas\\io\\parsers\\readers.py:1880\u001b[0m, in \u001b[0;36mTextFileReader._make_engine\u001b[1;34m(self, f, engine)\u001b[0m\n\u001b[0;32m   1878\u001b[0m     \u001b[38;5;28;01mif\u001b[39;00m \u001b[38;5;124m\"\u001b[39m\u001b[38;5;124mb\u001b[39m\u001b[38;5;124m\"\u001b[39m \u001b[38;5;129;01mnot\u001b[39;00m \u001b[38;5;129;01min\u001b[39;00m mode:\n\u001b[0;32m   1879\u001b[0m         mode \u001b[38;5;241m+\u001b[39m\u001b[38;5;241m=\u001b[39m \u001b[38;5;124m\"\u001b[39m\u001b[38;5;124mb\u001b[39m\u001b[38;5;124m\"\u001b[39m\n\u001b[1;32m-> 1880\u001b[0m \u001b[38;5;28mself\u001b[39m\u001b[38;5;241m.\u001b[39mhandles \u001b[38;5;241m=\u001b[39m \u001b[43mget_handle\u001b[49m\u001b[43m(\u001b[49m\n\u001b[0;32m   1881\u001b[0m \u001b[43m    \u001b[49m\u001b[43mf\u001b[49m\u001b[43m,\u001b[49m\n\u001b[0;32m   1882\u001b[0m \u001b[43m    \u001b[49m\u001b[43mmode\u001b[49m\u001b[43m,\u001b[49m\n\u001b[0;32m   1883\u001b[0m \u001b[43m    \u001b[49m\u001b[43mencoding\u001b[49m\u001b[38;5;241;43m=\u001b[39;49m\u001b[38;5;28;43mself\u001b[39;49m\u001b[38;5;241;43m.\u001b[39;49m\u001b[43moptions\u001b[49m\u001b[38;5;241;43m.\u001b[39;49m\u001b[43mget\u001b[49m\u001b[43m(\u001b[49m\u001b[38;5;124;43m\"\u001b[39;49m\u001b[38;5;124;43mencoding\u001b[39;49m\u001b[38;5;124;43m\"\u001b[39;49m\u001b[43m,\u001b[49m\u001b[43m \u001b[49m\u001b[38;5;28;43;01mNone\u001b[39;49;00m\u001b[43m)\u001b[49m\u001b[43m,\u001b[49m\n\u001b[0;32m   1884\u001b[0m \u001b[43m    \u001b[49m\u001b[43mcompression\u001b[49m\u001b[38;5;241;43m=\u001b[39;49m\u001b[38;5;28;43mself\u001b[39;49m\u001b[38;5;241;43m.\u001b[39;49m\u001b[43moptions\u001b[49m\u001b[38;5;241;43m.\u001b[39;49m\u001b[43mget\u001b[49m\u001b[43m(\u001b[49m\u001b[38;5;124;43m\"\u001b[39;49m\u001b[38;5;124;43mcompression\u001b[39;49m\u001b[38;5;124;43m\"\u001b[39;49m\u001b[43m,\u001b[49m\u001b[43m \u001b[49m\u001b[38;5;28;43;01mNone\u001b[39;49;00m\u001b[43m)\u001b[49m\u001b[43m,\u001b[49m\n\u001b[0;32m   1885\u001b[0m \u001b[43m    \u001b[49m\u001b[43mmemory_map\u001b[49m\u001b[38;5;241;43m=\u001b[39;49m\u001b[38;5;28;43mself\u001b[39;49m\u001b[38;5;241;43m.\u001b[39;49m\u001b[43moptions\u001b[49m\u001b[38;5;241;43m.\u001b[39;49m\u001b[43mget\u001b[49m\u001b[43m(\u001b[49m\u001b[38;5;124;43m\"\u001b[39;49m\u001b[38;5;124;43mmemory_map\u001b[39;49m\u001b[38;5;124;43m\"\u001b[39;49m\u001b[43m,\u001b[49m\u001b[43m \u001b[49m\u001b[38;5;28;43;01mFalse\u001b[39;49;00m\u001b[43m)\u001b[49m\u001b[43m,\u001b[49m\n\u001b[0;32m   1886\u001b[0m \u001b[43m    \u001b[49m\u001b[43mis_text\u001b[49m\u001b[38;5;241;43m=\u001b[39;49m\u001b[43mis_text\u001b[49m\u001b[43m,\u001b[49m\n\u001b[0;32m   1887\u001b[0m \u001b[43m    \u001b[49m\u001b[43merrors\u001b[49m\u001b[38;5;241;43m=\u001b[39;49m\u001b[38;5;28;43mself\u001b[39;49m\u001b[38;5;241;43m.\u001b[39;49m\u001b[43moptions\u001b[49m\u001b[38;5;241;43m.\u001b[39;49m\u001b[43mget\u001b[49m\u001b[43m(\u001b[49m\u001b[38;5;124;43m\"\u001b[39;49m\u001b[38;5;124;43mencoding_errors\u001b[39;49m\u001b[38;5;124;43m\"\u001b[39;49m\u001b[43m,\u001b[49m\u001b[43m \u001b[49m\u001b[38;5;124;43m\"\u001b[39;49m\u001b[38;5;124;43mstrict\u001b[39;49m\u001b[38;5;124;43m\"\u001b[39;49m\u001b[43m)\u001b[49m\u001b[43m,\u001b[49m\n\u001b[0;32m   1888\u001b[0m \u001b[43m    \u001b[49m\u001b[43mstorage_options\u001b[49m\u001b[38;5;241;43m=\u001b[39;49m\u001b[38;5;28;43mself\u001b[39;49m\u001b[38;5;241;43m.\u001b[39;49m\u001b[43moptions\u001b[49m\u001b[38;5;241;43m.\u001b[39;49m\u001b[43mget\u001b[49m\u001b[43m(\u001b[49m\u001b[38;5;124;43m\"\u001b[39;49m\u001b[38;5;124;43mstorage_options\u001b[39;49m\u001b[38;5;124;43m\"\u001b[39;49m\u001b[43m,\u001b[49m\u001b[43m \u001b[49m\u001b[38;5;28;43;01mNone\u001b[39;49;00m\u001b[43m)\u001b[49m\u001b[43m,\u001b[49m\n\u001b[0;32m   1889\u001b[0m \u001b[43m\u001b[49m\u001b[43m)\u001b[49m\n\u001b[0;32m   1890\u001b[0m \u001b[38;5;28;01massert\u001b[39;00m \u001b[38;5;28mself\u001b[39m\u001b[38;5;241m.\u001b[39mhandles \u001b[38;5;129;01mis\u001b[39;00m \u001b[38;5;129;01mnot\u001b[39;00m \u001b[38;5;28;01mNone\u001b[39;00m\n\u001b[0;32m   1891\u001b[0m f \u001b[38;5;241m=\u001b[39m \u001b[38;5;28mself\u001b[39m\u001b[38;5;241m.\u001b[39mhandles\u001b[38;5;241m.\u001b[39mhandle\n",
      "File \u001b[1;32mc:\\Users\\cerre\\anaconda3\\envs\\block_d\\lib\\site-packages\\pandas\\io\\common.py:873\u001b[0m, in \u001b[0;36mget_handle\u001b[1;34m(path_or_buf, mode, encoding, compression, memory_map, is_text, errors, storage_options)\u001b[0m\n\u001b[0;32m    868\u001b[0m \u001b[38;5;28;01melif\u001b[39;00m \u001b[38;5;28misinstance\u001b[39m(handle, \u001b[38;5;28mstr\u001b[39m):\n\u001b[0;32m    869\u001b[0m     \u001b[38;5;66;03m# Check whether the filename is to be opened in binary mode.\u001b[39;00m\n\u001b[0;32m    870\u001b[0m     \u001b[38;5;66;03m# Binary mode does not support 'encoding' and 'newline'.\u001b[39;00m\n\u001b[0;32m    871\u001b[0m     \u001b[38;5;28;01mif\u001b[39;00m ioargs\u001b[38;5;241m.\u001b[39mencoding \u001b[38;5;129;01mand\u001b[39;00m \u001b[38;5;124m\"\u001b[39m\u001b[38;5;124mb\u001b[39m\u001b[38;5;124m\"\u001b[39m \u001b[38;5;129;01mnot\u001b[39;00m \u001b[38;5;129;01min\u001b[39;00m ioargs\u001b[38;5;241m.\u001b[39mmode:\n\u001b[0;32m    872\u001b[0m         \u001b[38;5;66;03m# Encoding\u001b[39;00m\n\u001b[1;32m--> 873\u001b[0m         handle \u001b[38;5;241m=\u001b[39m \u001b[38;5;28;43mopen\u001b[39;49m\u001b[43m(\u001b[49m\n\u001b[0;32m    874\u001b[0m \u001b[43m            \u001b[49m\u001b[43mhandle\u001b[49m\u001b[43m,\u001b[49m\n\u001b[0;32m    875\u001b[0m \u001b[43m            \u001b[49m\u001b[43mioargs\u001b[49m\u001b[38;5;241;43m.\u001b[39;49m\u001b[43mmode\u001b[49m\u001b[43m,\u001b[49m\n\u001b[0;32m    876\u001b[0m \u001b[43m            \u001b[49m\u001b[43mencoding\u001b[49m\u001b[38;5;241;43m=\u001b[39;49m\u001b[43mioargs\u001b[49m\u001b[38;5;241;43m.\u001b[39;49m\u001b[43mencoding\u001b[49m\u001b[43m,\u001b[49m\n\u001b[0;32m    877\u001b[0m \u001b[43m            \u001b[49m\u001b[43merrors\u001b[49m\u001b[38;5;241;43m=\u001b[39;49m\u001b[43merrors\u001b[49m\u001b[43m,\u001b[49m\n\u001b[0;32m    878\u001b[0m \u001b[43m            \u001b[49m\u001b[43mnewline\u001b[49m\u001b[38;5;241;43m=\u001b[39;49m\u001b[38;5;124;43m\"\u001b[39;49m\u001b[38;5;124;43m\"\u001b[39;49m\u001b[43m,\u001b[49m\n\u001b[0;32m    879\u001b[0m \u001b[43m        \u001b[49m\u001b[43m)\u001b[49m\n\u001b[0;32m    880\u001b[0m     \u001b[38;5;28;01melse\u001b[39;00m:\n\u001b[0;32m    881\u001b[0m         \u001b[38;5;66;03m# Binary mode\u001b[39;00m\n\u001b[0;32m    882\u001b[0m         handle \u001b[38;5;241m=\u001b[39m \u001b[38;5;28mopen\u001b[39m(handle, ioargs\u001b[38;5;241m.\u001b[39mmode)\n",
      "\u001b[1;31mFileNotFoundError\u001b[0m: [Errno 2] No such file or directory: 'stock_metrics.csv'"
     ]
    }
   ],
   "source": [
    "# Reload the dataset to restore 'date' column\n",
    "df = pd.read_csv(\"stock_metrics.csv\")  "
   ]
  },
  {
   "cell_type": "code",
   "execution_count": 108,
   "id": "e260ed8d",
   "metadata": {},
   "outputs": [
    {
     "ename": "KeyError",
     "evalue": "'date'",
     "output_type": "error",
     "traceback": [
      "\u001b[1;31m---------------------------------------------------------------------------\u001b[0m",
      "\u001b[1;31mKeyError\u001b[0m                                  Traceback (most recent call last)",
      "\u001b[1;32m~\\AppData\\Local\\Temp\\ipykernel_22864\\2176411713.py\u001b[0m in \u001b[0;36m?\u001b[1;34m()\u001b[0m\n\u001b[0;32m      1\u001b[0m \u001b[1;31m# Sort by date to prevent future-peeking\u001b[0m\u001b[1;33m\u001b[0m\u001b[1;33m\u001b[0m\u001b[0m\n\u001b[1;32m----> 2\u001b[1;33m \u001b[0mdf_sorted\u001b[0m \u001b[1;33m=\u001b[0m \u001b[0mdf\u001b[0m\u001b[1;33m.\u001b[0m\u001b[0msort_values\u001b[0m\u001b[1;33m(\u001b[0m\u001b[0mby\u001b[0m\u001b[1;33m=\u001b[0m\u001b[1;34m'date'\u001b[0m\u001b[1;33m)\u001b[0m\u001b[1;33m.\u001b[0m\u001b[0mreset_index\u001b[0m\u001b[1;33m(\u001b[0m\u001b[0mdrop\u001b[0m\u001b[1;33m=\u001b[0m\u001b[1;32mTrue\u001b[0m\u001b[1;33m)\u001b[0m\u001b[1;33m\u001b[0m\u001b[1;33m\u001b[0m\u001b[0m\n\u001b[0m\u001b[0;32m      3\u001b[0m \u001b[1;33m\u001b[0m\u001b[0m\n\u001b[0;32m      4\u001b[0m \u001b[1;31m#  Define columns to drop (including the target)\u001b[0m\u001b[1;33m\u001b[0m\u001b[1;33m\u001b[0m\u001b[0m\n\u001b[0;32m      5\u001b[0m \u001b[0mdrop_cols\u001b[0m \u001b[1;33m=\u001b[0m \u001b[1;33m[\u001b[0m\u001b[1;34m'target'\u001b[0m\u001b[1;33m,\u001b[0m \u001b[1;34m'eps_estimate'\u001b[0m\u001b[1;33m,\u001b[0m \u001b[1;34m'eps_actual'\u001b[0m\u001b[1;33m,\u001b[0m \u001b[1;34m'eps_surprise'\u001b[0m\u001b[1;33m,\u001b[0m \u001b[1;34m'surprise_percent'\u001b[0m\u001b[1;33m]\u001b[0m\u001b[1;33m\u001b[0m\u001b[1;33m\u001b[0m\u001b[0m\n",
      "\u001b[1;32mc:\\Users\\cerre\\anaconda3\\envs\\block_d\\lib\\site-packages\\pandas\\core\\frame.py\u001b[0m in \u001b[0;36m?\u001b[1;34m(self, by, axis, ascending, inplace, kind, na_position, ignore_index, key)\u001b[0m\n\u001b[0;32m   7185\u001b[0m             )\n\u001b[0;32m   7186\u001b[0m         \u001b[1;32melif\u001b[0m \u001b[0mlen\u001b[0m\u001b[1;33m(\u001b[0m\u001b[0mby\u001b[0m\u001b[1;33m)\u001b[0m\u001b[1;33m:\u001b[0m\u001b[1;33m\u001b[0m\u001b[1;33m\u001b[0m\u001b[0m\n\u001b[0;32m   7187\u001b[0m             \u001b[1;31m# len(by) == 1\u001b[0m\u001b[1;33m\u001b[0m\u001b[1;33m\u001b[0m\u001b[0m\n\u001b[0;32m   7188\u001b[0m \u001b[1;33m\u001b[0m\u001b[0m\n\u001b[1;32m-> 7189\u001b[1;33m             \u001b[0mk\u001b[0m \u001b[1;33m=\u001b[0m \u001b[0mself\u001b[0m\u001b[1;33m.\u001b[0m\u001b[0m_get_label_or_level_values\u001b[0m\u001b[1;33m(\u001b[0m\u001b[0mby\u001b[0m\u001b[1;33m[\u001b[0m\u001b[1;36m0\u001b[0m\u001b[1;33m]\u001b[0m\u001b[1;33m,\u001b[0m \u001b[0maxis\u001b[0m\u001b[1;33m=\u001b[0m\u001b[0maxis\u001b[0m\u001b[1;33m)\u001b[0m\u001b[1;33m\u001b[0m\u001b[1;33m\u001b[0m\u001b[0m\n\u001b[0m\u001b[0;32m   7190\u001b[0m \u001b[1;33m\u001b[0m\u001b[0m\n\u001b[0;32m   7191\u001b[0m             \u001b[1;31m# need to rewrap column in Series to apply key function\u001b[0m\u001b[1;33m\u001b[0m\u001b[1;33m\u001b[0m\u001b[0m\n\u001b[0;32m   7192\u001b[0m             \u001b[1;32mif\u001b[0m \u001b[0mkey\u001b[0m \u001b[1;32mis\u001b[0m \u001b[1;32mnot\u001b[0m \u001b[1;32mNone\u001b[0m\u001b[1;33m:\u001b[0m\u001b[1;33m\u001b[0m\u001b[1;33m\u001b[0m\u001b[0m\n",
      "\u001b[1;32mc:\\Users\\cerre\\anaconda3\\envs\\block_d\\lib\\site-packages\\pandas\\core\\generic.py\u001b[0m in \u001b[0;36m?\u001b[1;34m(self, key, axis)\u001b[0m\n\u001b[0;32m   1907\u001b[0m             \u001b[0mvalues\u001b[0m \u001b[1;33m=\u001b[0m \u001b[0mself\u001b[0m\u001b[1;33m.\u001b[0m\u001b[0mxs\u001b[0m\u001b[1;33m(\u001b[0m\u001b[0mkey\u001b[0m\u001b[1;33m,\u001b[0m \u001b[0maxis\u001b[0m\u001b[1;33m=\u001b[0m\u001b[0mother_axes\u001b[0m\u001b[1;33m[\u001b[0m\u001b[1;36m0\u001b[0m\u001b[1;33m]\u001b[0m\u001b[1;33m)\u001b[0m\u001b[1;33m.\u001b[0m\u001b[0m_values\u001b[0m\u001b[1;33m\u001b[0m\u001b[1;33m\u001b[0m\u001b[0m\n\u001b[0;32m   1908\u001b[0m         \u001b[1;32melif\u001b[0m \u001b[0mself\u001b[0m\u001b[1;33m.\u001b[0m\u001b[0m_is_level_reference\u001b[0m\u001b[1;33m(\u001b[0m\u001b[0mkey\u001b[0m\u001b[1;33m,\u001b[0m \u001b[0maxis\u001b[0m\u001b[1;33m=\u001b[0m\u001b[0maxis\u001b[0m\u001b[1;33m)\u001b[0m\u001b[1;33m:\u001b[0m\u001b[1;33m\u001b[0m\u001b[1;33m\u001b[0m\u001b[0m\n\u001b[0;32m   1909\u001b[0m             \u001b[0mvalues\u001b[0m \u001b[1;33m=\u001b[0m \u001b[0mself\u001b[0m\u001b[1;33m.\u001b[0m\u001b[0maxes\u001b[0m\u001b[1;33m[\u001b[0m\u001b[0maxis\u001b[0m\u001b[1;33m]\u001b[0m\u001b[1;33m.\u001b[0m\u001b[0mget_level_values\u001b[0m\u001b[1;33m(\u001b[0m\u001b[0mkey\u001b[0m\u001b[1;33m)\u001b[0m\u001b[1;33m.\u001b[0m\u001b[0m_values\u001b[0m\u001b[1;33m\u001b[0m\u001b[1;33m\u001b[0m\u001b[0m\n\u001b[0;32m   1910\u001b[0m         \u001b[1;32melse\u001b[0m\u001b[1;33m:\u001b[0m\u001b[1;33m\u001b[0m\u001b[1;33m\u001b[0m\u001b[0m\n\u001b[1;32m-> 1911\u001b[1;33m             \u001b[1;32mraise\u001b[0m \u001b[0mKeyError\u001b[0m\u001b[1;33m(\u001b[0m\u001b[0mkey\u001b[0m\u001b[1;33m)\u001b[0m\u001b[1;33m\u001b[0m\u001b[1;33m\u001b[0m\u001b[0m\n\u001b[0m\u001b[0;32m   1912\u001b[0m \u001b[1;33m\u001b[0m\u001b[0m\n\u001b[0;32m   1913\u001b[0m         \u001b[1;31m# Check for duplicates\u001b[0m\u001b[1;33m\u001b[0m\u001b[1;33m\u001b[0m\u001b[0m\n\u001b[0;32m   1914\u001b[0m         \u001b[1;32mif\u001b[0m \u001b[0mvalues\u001b[0m\u001b[1;33m.\u001b[0m\u001b[0mndim\u001b[0m \u001b[1;33m>\u001b[0m \u001b[1;36m1\u001b[0m\u001b[1;33m:\u001b[0m\u001b[1;33m\u001b[0m\u001b[1;33m\u001b[0m\u001b[0m\n",
      "\u001b[1;31mKeyError\u001b[0m: 'date'"
     ]
    }
   ],
   "source": [
    "# Sort by date to prevent future-peeking\n",
    "df_sorted = df.sort_values(by='date').reset_index(drop=True)\n",
    "\n",
    "#  Define columns to drop (including the target)\n",
    "drop_cols = ['target', 'eps_estimate', 'eps_actual', 'eps_surprise', 'surprise_percent']\n",
    "\n",
    "#  Split into train and test (80/20)\n",
    "split_idx = int(len(df_sorted) * 0.8)\n",
    "train_df = df_sorted.iloc[:split_idx]\n",
    "test_df = df_sorted.iloc[split_idx:]\n",
    "\n",
    "#  Separate features and target\n",
    "X_train = train_df.drop(columns=drop_cols)\n",
    "y_train = train_df['target']\n",
    "\n",
    "X_test = test_df.drop(columns=drop_cols)\n",
    "y_test = test_df['target']\n"
   ]
  },
  {
   "cell_type": "markdown",
   "id": "79fcbe68",
   "metadata": {},
   "source": [
    "### Linear Regression (Leak-Free)"
   ]
  },
  {
   "cell_type": "code",
   "execution_count": 109,
   "id": "c5d54bde",
   "metadata": {},
   "outputs": [
    {
     "name": "stdout",
     "output_type": "stream",
     "text": [
      " XGBoost Results (Leak-Free)\n",
      "Mean Squared Error: 10.9334\n",
      "Mean Absolute Error: 1.9020\n",
      "R² Score: 0.9962\n"
     ]
    }
   ],
   "source": [
    "from xgboost import XGBRegressor\n",
    "\n",
    "# Train XGBoost\n",
    "xgb_model = XGBRegressor(objective=\"reg:squarederror\", n_estimators=100, random_state=42)\n",
    "xgb_model.fit(X_train_scaled, y_train)\n",
    "\n",
    "# Predict and evaluate\n",
    "y_pred_xgb = xgb_model.predict(X_test_scaled)\n",
    "\n",
    "mse_xgb = mean_squared_error(y_test, y_pred_xgb)\n",
    "mae_xgb = mean_absolute_error(y_test, y_pred_xgb)\n",
    "r2_xgb = r2_score(y_test, y_pred_xgb)\n",
    "\n",
    "print(\" XGBoost Results (Leak-Free)\")\n",
    "print(f\"Mean Squared Error: {mse_xgb:.4f}\")\n",
    "print(f\"Mean Absolute Error: {mae_xgb:.4f}\")\n",
    "print(f\"R² Score: {r2_xgb:.4f}\")"
   ]
  },
  {
   "cell_type": "markdown",
   "id": "328f6e59",
   "metadata": {},
   "source": [
    "### XGBoost Regression (Leak-Free)"
   ]
  },
  {
   "cell_type": "code",
   "execution_count": 110,
   "id": "7ae851d0",
   "metadata": {},
   "outputs": [
    {
     "name": "stdout",
     "output_type": "stream",
     "text": [
      " XGBoost Regression Results (Leak-Free)\n",
      "Mean Squared Error: 10.9334\n",
      "Mean Absolute Error: 1.9020\n",
      "R² Score: 0.9962\n"
     ]
    }
   ],
   "source": [
    "from xgboost import XGBRegressor\n",
    "from sklearn.metrics import mean_squared_error, mean_absolute_error, r2_score\n",
    "\n",
    "# Train the XGBoost model\n",
    "xgb_model = XGBRegressor(objective=\"reg:squarederror\", n_estimators=100, random_state=42)\n",
    "xgb_model.fit(X_train_scaled, y_train)\n",
    "\n",
    "# Predict and evaluate\n",
    "y_pred_xgb = xgb_model.predict(X_test_scaled)\n",
    "\n",
    "mse_xgb = mean_squared_error(y_test, y_pred_xgb)\n",
    "mae_xgb = mean_absolute_error(y_test, y_pred_xgb)\n",
    "r2_xgb = r2_score(y_test, y_pred_xgb)\n",
    "\n",
    "print(\" XGBoost Regression Results (Leak-Free)\")\n",
    "print(f\"Mean Squared Error: {mse_xgb:.4f}\")\n",
    "print(f\"Mean Absolute Error: {mae_xgb:.4f}\")\n",
    "print(f\"R² Score: {r2_xgb:.4f}\")\n"
   ]
  },
  {
   "cell_type": "code",
   "execution_count": 111,
   "id": "35db8e21",
   "metadata": {},
   "outputs": [],
   "source": [
    "X_leaky = df.drop(columns=['target', 'date', 'timestamp', 'ticker'], errors='ignore')\n"
   ]
  },
  {
   "cell_type": "code",
   "execution_count": 112,
   "id": "0bb28c6d",
   "metadata": {},
   "outputs": [
    {
     "name": "stdout",
     "output_type": "stream",
     "text": [
      " Lasso Regression Results (With Leakage)\n",
      "Mean Squared Error: 8.2124\n",
      "Mean Absolute Error: 1.8656\n",
      "R² Score: 0.9972\n"
     ]
    }
   ],
   "source": [
    "from sklearn.model_selection import train_test_split\n",
    "from sklearn.linear_model import Lasso\n",
    "from sklearn.preprocessing import StandardScaler\n",
    "from sklearn.metrics import mean_squared_error, mean_absolute_error, r2_score\n",
    "\n",
    "# Step 1: Drop non-numeric and leaky columns\n",
    "X_leaky = df.drop(columns=[\n",
    "    'target', 'date', 'timestamp', 'ticker',\n",
    "    'eps_estimate', 'eps_actual', 'eps_surprise', 'surprise_percent'\n",
    "], errors='ignore')\n",
    "y_leaky = df['target']\n",
    "\n",
    "# Step 2: Random split (leaky!)\n",
    "X_train_leaky, X_test_leaky, y_train_leaky, y_test_leaky = train_test_split(X_leaky, y_leaky, test_size=0.2, random_state=42)\n",
    "\n",
    "# Step 3: Scale features\n",
    "scaler_leaky = StandardScaler()\n",
    "X_train_scaled_leaky = scaler_leaky.fit_transform(X_train_leaky)\n",
    "X_test_scaled_leaky = scaler_leaky.transform(X_test_leaky)\n",
    "\n",
    "# Step 4: Train and evaluate Lasso\n",
    "lasso_leaky = Lasso(alpha=0.1, random_state=42)\n",
    "lasso_leaky.fit(X_train_scaled_leaky, y_train_leaky)\n",
    "y_pred_leaky = lasso_leaky.predict(X_test_scaled_leaky)\n",
    "\n",
    "# Step 5: Print results\n",
    "mse_leaky = mean_squared_error(y_test_leaky, y_pred_leaky)\n",
    "mae_leaky = mean_absolute_error(y_test_leaky, y_pred_leaky)\n",
    "r2_leaky = r2_score(y_test_leaky, y_pred_leaky)\n",
    "\n",
    "print(\" Lasso Regression Results (With Leakage)\")\n",
    "print(f\"Mean Squared Error: {mse_leaky:.4f}\")\n",
    "print(f\"Mean Absolute Error: {mae_leaky:.4f}\")\n",
    "print(f\"R² Score: {r2_leaky:.4f}\")\n"
   ]
  },
  {
   "cell_type": "markdown",
   "id": "9d2c6711",
   "metadata": {},
   "source": [
    "### Final Evaluation & Data Leakage Comparison\n",
    "\n",
    "To understand the impact of data leakage, we trained three models under different conditions:\n",
    "\n",
    "| Model                              | Data Split     | Leakage Risk | R² Score |\n",
    "|-----------------------------------|-----------------|--------------|----------|\n",
    "| Linear Regression (Leak-Free)     | Time-based      |  No          | -5.68    |\n",
    "| XGBoost Regression (Leak-Free)    | Time-based      |  No          | -5.89    |\n",
    "| Lasso Regression (With Leakage)   | Random          |  Yes         | **0.9972**|\n",
    "\n",
    "- **Leak-Free models** give realistic but poor performance due to the complexity of financial prediction.\n",
    "- The **leaky model** achieves extremely high R², which is misleading and not usable in practice.\n",
    "- This highlights the **critical importance of time-aware splitting** and avoiding future information in model training.\n",
    "\n",
    "Next steps could involve:\n",
    "- Better features (e.g., momentum, volatility indicators)\n",
    "- Encoding `ticker` symbols\n",
    "- Trying models built for sequences like **LSTM**\n",
    "\n"
   ]
  }
 ],
 "metadata": {
  "kernelspec": {
   "display_name": "block_d",
   "language": "python",
   "name": "python3"
  },
  "language_info": {
   "codemirror_mode": {
    "name": "ipython",
    "version": 3
   },
   "file_extension": ".py",
   "mimetype": "text/x-python",
   "name": "python",
   "nbconvert_exporter": "python",
   "pygments_lexer": "ipython3",
   "version": "3.10.16"
  }
 },
 "nbformat": 4,
 "nbformat_minor": 5
}
