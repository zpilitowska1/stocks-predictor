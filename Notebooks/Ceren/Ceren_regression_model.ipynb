{
 "cells": [
  {
   "cell_type": "markdown",
   "id": "e91c93d5",
   "metadata": {},
   "source": [
    "### Importing libraries"
   ]
  },
  {
   "cell_type": "code",
   "execution_count": null,
   "id": "882def8d",
   "metadata": {},
   "outputs": [],
   "source": [
    "import pandas as pd\n",
    "import matplotlib.pyplot as plt\n",
    "import seaborn as sns\n",
    "from sklearn.model_selection import train_test_split\n",
    "from sklearn.metrics import mean_squared_error, mean_absolute_error\n",
    "from sklearn.linear_model import LinearRegression\n",
    "from xgboost import XGBRegressor\n",
    "from sklearn.preprocessing import StandardScaler\n",
    "from sklearn.cluster import KMeans \n"
   ]
  },
  {
   "cell_type": "markdown",
   "id": "8f3eaa60",
   "metadata": {},
   "source": [
    "### Importing Data"
   ]
  },
  {
   "cell_type": "code",
   "execution_count": 8,
   "id": "45c93176",
   "metadata": {},
   "outputs": [],
   "source": [
    "import pandas as pd\n",
    "\n",
    "path = r\"C:\\Users\\cerre\\Desktop\\work_with_this_dataset.csv\"\n",
    "df = pd.read_csv(path)"
   ]
  },
  {
   "cell_type": "markdown",
   "id": "26600c12",
   "metadata": {},
   "source": [
    "### Splitting and Scaling the Data"
   ]
  },
  {
   "cell_type": "code",
   "execution_count": 15,
   "id": "ad803f73",
   "metadata": {},
   "outputs": [],
   "source": [
    "from sklearn.model_selection import train_test_split\n",
    "from sklearn.preprocessing import StandardScaler\n",
    "\n",
    "# select features and target\n",
    "features = df.drop(columns=[\"Target\", \"Trend\"])\n",
    "target = df[\"Target\"]\n",
    "\n",
    "# split into training and testing sets\n",
    "x_train, x_test, y_train, y_test = train_test_split(features, target, test_size=0.2, random_state=42)\n",
    "\n",
    "# scale features\n",
    "scaler = StandardScaler()\n",
    "x_train_scaled = scaler.fit_transform(x_train)\n",
    "x_test_scaled = scaler.transform(x_test)"
   ]
  },
  {
   "cell_type": "markdown",
   "id": "bfd0612d",
   "metadata": {},
   "source": [
    "### Linear Regression Model\n",
    "\n",
    "Here, I train a **Linear Regression** model using the scaled training data. After training, the model is evaluated on the test set using three performance metrics:  \n",
    "- **Mean Squared Error (MSE)** to measure average squared prediction error,  \n",
    "- **Mean Absolute Error (MAE)** to measure average magnitude of errors,  \n",
    "- **R² Score** to evaluate how well the model explains the variance in the data.  \n",
    "This model provides a baseline for regression performance on our dataset.\n"
   ]
  },
  {
   "cell_type": "code",
   "execution_count": 16,
   "id": "ccb4042d",
   "metadata": {},
   "outputs": [
    {
     "name": "stdout",
     "output_type": "stream",
     "text": [
      "🔹 Linear Regression Results\n",
      "Mean Squared Error: 759.0464\n",
      "Mean Absolute Error: 3.6159\n",
      "R2 Score: 0.9904\n"
     ]
    }
   ],
   "source": [
    "from sklearn.linear_model import LinearRegression\n",
    "from sklearn.metrics import mean_squared_error, mean_absolute_error, r2_score\n",
    "\n",
    "# train the model\n",
    "lr_model = LinearRegression()\n",
    "lr_model.fit(x_train_scaled, y_train)\n",
    "\n",
    "# make predictions\n",
    "y_pred_lr = lr_model.predict(x_test_scaled)\n",
    "\n",
    "# evaluate the model\n",
    "mse = mean_squared_error(y_test, y_pred_lr)\n",
    "mae = mean_absolute_error(y_test, y_pred_lr)\n",
    "r2 = r2_score(y_test, y_pred_lr)\n",
    "\n",
    "print(\"🔹 Linear Regression Results\")\n",
    "print(f\"Mean Squared Error: {mse:.4f}\")\n",
    "print(f\"Mean Absolute Error: {mae:.4f}\")\n",
    "print(f\"R2 Score: {r2:.4f}\")"
   ]
  },
  {
   "cell_type": "markdown",
   "id": "a42de675",
   "metadata": {},
   "source": [
    " ### XGBoost Regression Model\n",
    "\n",
    "In this block, we train an **XGBoost Regressor**, which is a more advanced machine learning model that typically performs better with complex patterns in data.\n",
    "\n",
    "- We use `\"reg:squarederror\"` as the objective to minimize squared errors.\n",
    "- After training, we evaluate the model using **MSE**, **MAE**, and **R² Score**, just like with Linear Regression.\n",
    "\n",
    "This model helps us compare the performance of a baseline model (Linear Regression) versus a more sophisticated tree-based model (XGBoost).\n"
   ]
  },
  {
   "cell_type": "code",
   "execution_count": 17,
   "id": "e75b8ac5",
   "metadata": {},
   "outputs": [
    {
     "name": "stdout",
     "output_type": "stream",
     "text": [
      "🔹 XGBoost Regression Results\n",
      "Mean Squared Error: 1743.2317\n",
      "Mean Absolute Error: 5.4650\n",
      "R2 Score: 0.9779\n"
     ]
    }
   ],
   "source": [
    "from xgboost import XGBRegressor\n",
    "\n",
    "# train the model\n",
    "xgb_model = XGBRegressor(objective=\"reg:squarederror\", n_estimators=100, random_state=42)\n",
    "xgb_model.fit(x_train_scaled, y_train)\n",
    "\n",
    "# make predictions\n",
    "y_pred_xgb = xgb_model.predict(x_test_scaled)\n",
    "\n",
    "# evaluate the model\n",
    "mse_xgb = mean_squared_error(y_test, y_pred_xgb)\n",
    "mae_xgb = mean_absolute_error(y_test, y_pred_xgb)\n",
    "r2_xgb = r2_score(y_test, y_pred_xgb)\n",
    "\n",
    "print(\"🔹 XGBoost Regression Results\")\n",
    "print(f\"Mean Squared Error: {mse_xgb:.4f}\")\n",
    "print(f\"Mean Absolute Error: {mae_xgb:.4f}\")\n",
    "print(f\"R2 Score: {r2_xgb:.4f}\")"
   ]
  },
  {
   "cell_type": "markdown",
   "id": "76bb42ea",
   "metadata": {},
   "source": [
    "### Target Variable Selection and Data Preprocessing\n",
    "\n",
    "In this section, we change the regression target to `\"close_mean_10_days\"` to explore how models perform on a different financial indicator.\n",
    "\n",
    "- **Target Selection**: `\"close_mean_10_days\"` is chosen as the new target variable.\n",
    "- **Feature Separation**: All other columns are used as input features.\n",
    "- **Data Splitting**: The dataset is split into training and testing sets using an 80/20 ratio.\n",
    "- **Feature Scaling**: We apply `StandardScaler` to normalize the data, which is important for models like linear regression and XGBoost to perform optimally.\n",
    "\n",
    "This step allows us to evaluate whether the model generalizes well on a different target variable, enhancing the robustness of our regression analysis.\n"
   ]
  },
  {
   "cell_type": "code",
   "execution_count": 19,
   "id": "162d18cf",
   "metadata": {},
   "outputs": [],
   "source": [
    "target = \"close_mean_10_days\""
   ]
  },
  {
   "cell_type": "code",
   "execution_count": 20,
   "id": "2baacf5b",
   "metadata": {},
   "outputs": [],
   "source": [
    "features = df.drop(columns=[target])\n",
    "target_values = df[target]"
   ]
  },
  {
   "cell_type": "code",
   "execution_count": 21,
   "id": "8cb9485b",
   "metadata": {},
   "outputs": [],
   "source": [
    "from sklearn.model_selection import train_test_split\n",
    "\n",
    "X_train, X_test, y_train, y_test = train_test_split(features, target_values, test_size=0.2, random_state=42)"
   ]
  },
  {
   "cell_type": "code",
   "execution_count": 22,
   "id": "9bd893b9",
   "metadata": {},
   "outputs": [],
   "source": [
    "from sklearn.preprocessing import StandardScaler\n",
    "\n",
    "scaler = StandardScaler()\n",
    "X_train_scaled = scaler.fit_transform(X_train)\n",
    "X_test_scaled = scaler.transform(X_test)"
   ]
  },
  {
   "cell_type": "markdown",
   "id": "6e131ddb",
   "metadata": {},
   "source": [
    "**Conclusion:**  \n",
    "Linear Regression outperformed XGBoost with lower error and higher R², showing that a simple model worked best for this dataset."
   ]
  },
  {
   "cell_type": "code",
   "execution_count": 23,
   "id": "28420cea",
   "metadata": {},
   "outputs": [
    {
     "name": "stdout",
     "output_type": "stream",
     "text": [
      "MSE: 13.661242582214419\n",
      "MAE: 0.800397287482735\n",
      "R2 Score: 0.9998263793189257\n"
     ]
    }
   ],
   "source": [
    "from sklearn.linear_model import LinearRegression\n",
    "from sklearn.metrics import mean_squared_error, mean_absolute_error, r2_score\n",
    "\n",
    "lr = LinearRegression()\n",
    "lr.fit(X_train_scaled, y_train)\n",
    "y_pred_lr = lr.predict(X_test_scaled)\n",
    "\n",
    "print(\"MSE:\", mean_squared_error(y_test, y_pred_lr))\n",
    "print(\"MAE:\", mean_absolute_error(y_test, y_pred_lr))\n",
    "print(\"R2 Score:\", r2_score(y_test, y_pred_lr))"
   ]
  },
  {
   "cell_type": "code",
   "execution_count": 24,
   "id": "c8c530e4",
   "metadata": {},
   "outputs": [
    {
     "name": "stdout",
     "output_type": "stream",
     "text": [
      "MSE: 996.1266157058961\n",
      "MAE: 3.054849212834576\n",
      "R2 Score: 0.9873402305526509\n"
     ]
    }
   ],
   "source": [
    "from xgboost import XGBRegressor\n",
    "\n",
    "xgb = XGBRegressor()\n",
    "xgb.fit(X_train_scaled, y_train)\n",
    "y_pred_xgb = xgb.predict(X_test_scaled)\n",
    "\n",
    "print(\"MSE:\", mean_squared_error(y_test, y_pred_xgb))\n",
    "print(\"MAE:\", mean_absolute_error(y_test, y_pred_xgb))\n",
    "print(\"R2 Score:\", r2_score(y_test, y_pred_xgb))"
   ]
  },
  {
   "cell_type": "markdown",
   "id": "a698b5e8",
   "metadata": {},
   "source": [
    "### KMeans Clustering and PCA Visualization\n",
    "\n",
    "In this section, I performed KMeans clustering on the numerical features of the dataset to identify hidden patterns or groupings. We standardized the features before clustering to ensure fair comparison. To visualize the clusters in two dimensions, I applied PCA and plotted the result using a scatter plot. Each point represents an observation colored by its assigned cluster.\n"
   ]
  },
  {
   "cell_type": "code",
   "execution_count": 26,
   "id": "acfdb30e",
   "metadata": {},
   "outputs": [
    {
     "data": {
      "image/png": "[encoded data removed]",
      "text/plain": [
       "<Figure size 1000x600 with 1 Axes>"
      ]
     },
     "metadata": {},
     "output_type": "display_data"
    }
   ],
   "source": [
    "import pandas as pd\n",
    "from sklearn.cluster import KMeans\n",
    "from sklearn.preprocessing import StandardScaler\n",
    "from sklearn.decomposition import PCA\n",
    "import matplotlib.pyplot as plt\n",
    "\n",
    "# Load dataset\n",
    "df = pd.read_csv(r\"C:\\Users\\cerre\\Desktop\\work_with_this_dataset.csv\")\n",
    "\n",
    "# Select numerical features for clustering\n",
    "features = df.select_dtypes(include=[\"float64\", \"int64\"])\n",
    "\n",
    "# Standardize the features\n",
    "scaler = StandardScaler()\n",
    "scaled_features = scaler.fit_transform(features)\n",
    "\n",
    "# Apply KMeans clustering\n",
    "kmeans = KMeans(n_clusters=3, random_state=42)\n",
    "clusters = kmeans.fit_predict(scaled_features)\n",
    "df[\"cluster\"] = clusters\n",
    "\n",
    "# Apply PCA for visualization\n",
    "pca = PCA(n_components=2)\n",
    "pca_result = pca.fit_transform(scaled_features)\n",
    "df[\"pca1\"] = pca_result[:, 0]\n",
    "df[\"pca2\"] = pca_result[:, 1]\n",
    "\n",
    "# Plot the clusters\n",
    "plt.figure(figsize=(10, 6))\n",
    "for cluster in df[\"cluster\"].unique():\n",
    "    clustered = df[df[\"cluster\"] == cluster]\n",
    "    plt.scatter(clustered[\"pca1\"], clustered[\"pca2\"], label=f\"Cluster {cluster}\")\n",
    "plt.xlabel(\"PCA 1\")\n",
    "plt.ylabel(\"PCA 2\")\n",
    "plt.title(\"KMeans Clusters (3) Visualized with PCA\")\n",
    "plt.legend()\n",
    "plt.grid(True)\n",
    "plt.tight_layout()\n",
    "plt.show()\n"
   ]
  }
 ],
 "metadata": {
  "kernelspec": {
   "display_name": "block_d",
   "language": "python",
   "name": "python3"
  },
  "language_info": {
   "codemirror_mode": {
    "name": "ipython",
    "version": 3
   },
   "file_extension": ".py",
   "mimetype": "text/x-python",
   "name": "python",
   "nbconvert_exporter": "python",
   "pygments_lexer": "ipython3",
   "version": "3.10.16"
  }
 },
 "nbformat": 4,
 "nbformat_minor": 5
}
